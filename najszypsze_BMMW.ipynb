{
 "cells": [
  {
   "cell_type": "markdown",
   "metadata": {},
   "source": [
    "# Import libraries"
   ]
  },
  {
   "cell_type": "code",
   "execution_count": 35,
   "metadata": {},
   "outputs": [],
   "source": [
    "import pandas as pd\n",
    "import numpy as np"
   ]
  },
  {
   "cell_type": "markdown",
   "metadata": {},
   "source": [
    "# Import data"
   ]
  },
  {
   "cell_type": "code",
   "execution_count": 36,
   "metadata": {},
   "outputs": [
    {
     "data": {
      "text/html": [
       "<div>\n",
       "<style scoped>\n",
       "    .dataframe tbody tr th:only-of-type {\n",
       "        vertical-align: middle;\n",
       "    }\n",
       "\n",
       "    .dataframe tbody tr th {\n",
       "        vertical-align: top;\n",
       "    }\n",
       "\n",
       "    .dataframe thead th {\n",
       "        text-align: right;\n",
       "    }\n",
       "</style>\n",
       "<table border=\"1\" class=\"dataframe\">\n",
       "  <thead>\n",
       "    <tr style=\"text-align: right;\">\n",
       "      <th></th>\n",
       "      <th>Unnamed: 0</th>\n",
       "      <th>Activity</th>\n",
       "      <th>angle(X,gravityMean)</th>\n",
       "      <th>angle(Y,gravityMean)</th>\n",
       "      <th>angle(Z,gravityMean)</th>\n",
       "      <th>angle(tBodyAccJerkMean),gravityMean)</th>\n",
       "      <th>angle(tBodyAccMean,gravity)</th>\n",
       "      <th>angle(tBodyGyroJerkMean,gravityMean)</th>\n",
       "      <th>angle(tBodyGyroMean,gravityMean)</th>\n",
       "      <th>energy-mean()</th>\n",
       "      <th>...</th>\n",
       "      <th>tGravityAccMag-energy()</th>\n",
       "      <th>tGravityAccMag-entropy()</th>\n",
       "      <th>tGravityAccMag-iqr()</th>\n",
       "      <th>tGravityAccMag-mad()</th>\n",
       "      <th>tGravityAccMag-max()</th>\n",
       "      <th>tGravityAccMag-mean()</th>\n",
       "      <th>tGravityAccMag-min()</th>\n",
       "      <th>tGravityAccMag-sma()</th>\n",
       "      <th>tGravityAccMag-std()</th>\n",
       "      <th>void()</th>\n",
       "    </tr>\n",
       "  </thead>\n",
       "  <tbody>\n",
       "    <tr>\n",
       "      <th>0</th>\n",
       "      <td>0</td>\n",
       "      <td>STANDING</td>\n",
       "      <td>-1.574191</td>\n",
       "      <td>-0.805700</td>\n",
       "      <td>-2.453831</td>\n",
       "      <td>-1.861714</td>\n",
       "      <td>0.115517</td>\n",
       "      <td>-2.023369</td>\n",
       "      <td>3.125860</td>\n",
       "      <td>-9.474436</td>\n",
       "      <td>...</td>\n",
       "      <td>5.049130</td>\n",
       "      <td>3.272281</td>\n",
       "      <td>5.103018</td>\n",
       "      <td>-0.823302</td>\n",
       "      <td>3.063681</td>\n",
       "      <td>-0.928676</td>\n",
       "      <td>-1.007695</td>\n",
       "      <td>3.094236</td>\n",
       "      <td>1.669987</td>\n",
       "      <td>1.0</td>\n",
       "    </tr>\n",
       "    <tr>\n",
       "      <th>1</th>\n",
       "      <td>1</td>\n",
       "      <td>WALKING_UPSTAIRS</td>\n",
       "      <td>-1.568669</td>\n",
       "      <td>-0.612620</td>\n",
       "      <td>-2.488338</td>\n",
       "      <td>-1.751117</td>\n",
       "      <td>0.218134</td>\n",
       "      <td>0.280294</td>\n",
       "      <td>7.953403</td>\n",
       "      <td>-0.679894</td>\n",
       "      <td>...</td>\n",
       "      <td>4.565443</td>\n",
       "      <td>4.440779</td>\n",
       "      <td>3.288399</td>\n",
       "      <td>-2.689605</td>\n",
       "      <td>1.705341</td>\n",
       "      <td>-0.822617</td>\n",
       "      <td>-0.572410</td>\n",
       "      <td>-2.187890</td>\n",
       "      <td>-0.544652</td>\n",
       "      <td>2.0</td>\n",
       "    </tr>\n",
       "    <tr>\n",
       "      <th>2</th>\n",
       "      <td>2</td>\n",
       "      <td>LAYING</td>\n",
       "      <td>-1.548333</td>\n",
       "      <td>-0.139628</td>\n",
       "      <td>-2.380889</td>\n",
       "      <td>-1.915239</td>\n",
       "      <td>0.067613</td>\n",
       "      <td>-0.887342</td>\n",
       "      <td>6.007361</td>\n",
       "      <td>-11.906904</td>\n",
       "      <td>...</td>\n",
       "      <td>5.059609</td>\n",
       "      <td>2.296603</td>\n",
       "      <td>5.344174</td>\n",
       "      <td>-0.549843</td>\n",
       "      <td>3.272225</td>\n",
       "      <td>-0.940610</td>\n",
       "      <td>-1.031522</td>\n",
       "      <td>-2.071755</td>\n",
       "      <td>2.024442</td>\n",
       "      <td>3.0</td>\n",
       "    </tr>\n",
       "    <tr>\n",
       "      <th>3</th>\n",
       "      <td>3</td>\n",
       "      <td>WALKING</td>\n",
       "      <td>-1.574094</td>\n",
       "      <td>-0.793443</td>\n",
       "      <td>-2.449959</td>\n",
       "      <td>-1.842741</td>\n",
       "      <td>-0.195625</td>\n",
       "      <td>-0.950671</td>\n",
       "      <td>2.104353</td>\n",
       "      <td>-11.906121</td>\n",
       "      <td>...</td>\n",
       "      <td>4.860758</td>\n",
       "      <td>4.177535</td>\n",
       "      <td>3.950012</td>\n",
       "      <td>-0.322642</td>\n",
       "      <td>2.366287</td>\n",
       "      <td>-0.866937</td>\n",
       "      <td>-0.696431</td>\n",
       "      <td>1.863375</td>\n",
       "      <td>0.550414</td>\n",
       "      <td>2.0</td>\n",
       "    </tr>\n",
       "    <tr>\n",
       "      <th>4</th>\n",
       "      <td>4</td>\n",
       "      <td>LAYING</td>\n",
       "      <td>-1.548333</td>\n",
       "      <td>-0.139628</td>\n",
       "      <td>-2.380889</td>\n",
       "      <td>NaN</td>\n",
       "      <td>0.067613</td>\n",
       "      <td>-0.887342</td>\n",
       "      <td>6.007361</td>\n",
       "      <td>-11.970485</td>\n",
       "      <td>...</td>\n",
       "      <td>5.059609</td>\n",
       "      <td>2.296603</td>\n",
       "      <td>5.344174</td>\n",
       "      <td>-0.549843</td>\n",
       "      <td>3.272225</td>\n",
       "      <td>-0.940610</td>\n",
       "      <td>-1.031522</td>\n",
       "      <td>-2.102513</td>\n",
       "      <td>2.024442</td>\n",
       "      <td>3.0</td>\n",
       "    </tr>\n",
       "    <tr>\n",
       "      <th>5</th>\n",
       "      <td>5</td>\n",
       "      <td>SITTING</td>\n",
       "      <td>-1.575809</td>\n",
       "      <td>-0.640703</td>\n",
       "      <td>-2.460251</td>\n",
       "      <td>-1.849850</td>\n",
       "      <td>0.174633</td>\n",
       "      <td>-0.151900</td>\n",
       "      <td>3.562269</td>\n",
       "      <td>-5.978664</td>\n",
       "      <td>...</td>\n",
       "      <td>5.012806</td>\n",
       "      <td>3.784507</td>\n",
       "      <td>4.524738</td>\n",
       "      <td>-6.202087</td>\n",
       "      <td>2.763802</td>\n",
       "      <td>-0.913074</td>\n",
       "      <td>-0.991923</td>\n",
       "      <td>2.783184</td>\n",
       "      <td>0.946387</td>\n",
       "      <td>2.0</td>\n",
       "    </tr>\n",
       "    <tr>\n",
       "      <th>6</th>\n",
       "      <td>6</td>\n",
       "      <td>LAYING</td>\n",
       "      <td>-1.544632</td>\n",
       "      <td>-0.082690</td>\n",
       "      <td>-2.383599</td>\n",
       "      <td>-1.850232</td>\n",
       "      <td>-0.134514</td>\n",
       "      <td>1.509522</td>\n",
       "      <td>4.287757</td>\n",
       "      <td>-11.804038</td>\n",
       "      <td>...</td>\n",
       "      <td>5.060741</td>\n",
       "      <td>1.503260</td>\n",
       "      <td>5.408900</td>\n",
       "      <td>-6.020885</td>\n",
       "      <td>3.316649</td>\n",
       "      <td>-0.944660</td>\n",
       "      <td>-1.035018</td>\n",
       "      <td>3.412909</td>\n",
       "      <td>2.096713</td>\n",
       "      <td>1.0</td>\n",
       "    </tr>\n",
       "    <tr>\n",
       "      <th>7</th>\n",
       "      <td>7</td>\n",
       "      <td>STANDING</td>\n",
       "      <td>-1.567323</td>\n",
       "      <td>-0.857850</td>\n",
       "      <td>-2.490082</td>\n",
       "      <td>-1.832982</td>\n",
       "      <td>0.112276</td>\n",
       "      <td>-0.738710</td>\n",
       "      <td>7.961757</td>\n",
       "      <td>-9.302665</td>\n",
       "      <td>...</td>\n",
       "      <td>5.060179</td>\n",
       "      <td>2.089889</td>\n",
       "      <td>5.362029</td>\n",
       "      <td>-0.555530</td>\n",
       "      <td>3.272104</td>\n",
       "      <td>-0.942724</td>\n",
       "      <td>-1.030745</td>\n",
       "      <td>-2.238799</td>\n",
       "      <td>2.010097</td>\n",
       "      <td>1.0</td>\n",
       "    </tr>\n",
       "    <tr>\n",
       "      <th>8</th>\n",
       "      <td>8</td>\n",
       "      <td>LAYING</td>\n",
       "      <td>-1.548536</td>\n",
       "      <td>-0.085978</td>\n",
       "      <td>-2.385792</td>\n",
       "      <td>-1.802245</td>\n",
       "      <td>0.152624</td>\n",
       "      <td>1.059657</td>\n",
       "      <td>6.577405</td>\n",
       "      <td>-6.372738</td>\n",
       "      <td>...</td>\n",
       "      <td>5.058368</td>\n",
       "      <td>2.487948</td>\n",
       "      <td>5.247866</td>\n",
       "      <td>-6.149970</td>\n",
       "      <td>3.259964</td>\n",
       "      <td>-0.938109</td>\n",
       "      <td>-1.017701</td>\n",
       "      <td>3.282303</td>\n",
       "      <td>1.968382</td>\n",
       "      <td>1.0</td>\n",
       "    </tr>\n",
       "    <tr>\n",
       "      <th>9</th>\n",
       "      <td>9</td>\n",
       "      <td>WALKING_DOWNSTAIRS</td>\n",
       "      <td>-1.574517</td>\n",
       "      <td>-0.779927</td>\n",
       "      <td>-2.460828</td>\n",
       "      <td>-1.826485</td>\n",
       "      <td>-0.089204</td>\n",
       "      <td>1.763456</td>\n",
       "      <td>2.010612</td>\n",
       "      <td>-6.150281</td>\n",
       "      <td>...</td>\n",
       "      <td>4.289583</td>\n",
       "      <td>4.563102</td>\n",
       "      <td>2.775124</td>\n",
       "      <td>-3.942224</td>\n",
       "      <td>1.031420</td>\n",
       "      <td>-0.802131</td>\n",
       "      <td>-0.704161</td>\n",
       "      <td>0.571339</td>\n",
       "      <td>-2.101442</td>\n",
       "      <td>2.0</td>\n",
       "    </tr>\n",
       "  </tbody>\n",
       "</table>\n",
       "<p>10 rows × 573 columns</p>\n",
       "</div>"
      ],
      "text/plain": [
       "   Unnamed: 0            Activity  angle(X,gravityMean)  angle(Y,gravityMean)  \\\n",
       "0           0            STANDING             -1.574191             -0.805700   \n",
       "1           1    WALKING_UPSTAIRS             -1.568669             -0.612620   \n",
       "2           2              LAYING             -1.548333             -0.139628   \n",
       "3           3             WALKING             -1.574094             -0.793443   \n",
       "4           4              LAYING             -1.548333             -0.139628   \n",
       "5           5             SITTING             -1.575809             -0.640703   \n",
       "6           6              LAYING             -1.544632             -0.082690   \n",
       "7           7            STANDING             -1.567323             -0.857850   \n",
       "8           8              LAYING             -1.548536             -0.085978   \n",
       "9           9  WALKING_DOWNSTAIRS             -1.574517             -0.779927   \n",
       "\n",
       "   angle(Z,gravityMean)  angle(tBodyAccJerkMean),gravityMean)  \\\n",
       "0             -2.453831                             -1.861714   \n",
       "1             -2.488338                             -1.751117   \n",
       "2             -2.380889                             -1.915239   \n",
       "3             -2.449959                             -1.842741   \n",
       "4             -2.380889                                   NaN   \n",
       "5             -2.460251                             -1.849850   \n",
       "6             -2.383599                             -1.850232   \n",
       "7             -2.490082                             -1.832982   \n",
       "8             -2.385792                             -1.802245   \n",
       "9             -2.460828                             -1.826485   \n",
       "\n",
       "   angle(tBodyAccMean,gravity)  angle(tBodyGyroJerkMean,gravityMean)  \\\n",
       "0                     0.115517                             -2.023369   \n",
       "1                     0.218134                              0.280294   \n",
       "2                     0.067613                             -0.887342   \n",
       "3                    -0.195625                             -0.950671   \n",
       "4                     0.067613                             -0.887342   \n",
       "5                     0.174633                             -0.151900   \n",
       "6                    -0.134514                              1.509522   \n",
       "7                     0.112276                             -0.738710   \n",
       "8                     0.152624                              1.059657   \n",
       "9                    -0.089204                              1.763456   \n",
       "\n",
       "   angle(tBodyGyroMean,gravityMean)  energy-mean()  ...  \\\n",
       "0                          3.125860      -9.474436  ...   \n",
       "1                          7.953403      -0.679894  ...   \n",
       "2                          6.007361     -11.906904  ...   \n",
       "3                          2.104353     -11.906121  ...   \n",
       "4                          6.007361     -11.970485  ...   \n",
       "5                          3.562269      -5.978664  ...   \n",
       "6                          4.287757     -11.804038  ...   \n",
       "7                          7.961757      -9.302665  ...   \n",
       "8                          6.577405      -6.372738  ...   \n",
       "9                          2.010612      -6.150281  ...   \n",
       "\n",
       "   tGravityAccMag-energy()  tGravityAccMag-entropy()  tGravityAccMag-iqr()  \\\n",
       "0                 5.049130                  3.272281              5.103018   \n",
       "1                 4.565443                  4.440779              3.288399   \n",
       "2                 5.059609                  2.296603              5.344174   \n",
       "3                 4.860758                  4.177535              3.950012   \n",
       "4                 5.059609                  2.296603              5.344174   \n",
       "5                 5.012806                  3.784507              4.524738   \n",
       "6                 5.060741                  1.503260              5.408900   \n",
       "7                 5.060179                  2.089889              5.362029   \n",
       "8                 5.058368                  2.487948              5.247866   \n",
       "9                 4.289583                  4.563102              2.775124   \n",
       "\n",
       "   tGravityAccMag-mad()  tGravityAccMag-max()  tGravityAccMag-mean()  \\\n",
       "0             -0.823302              3.063681              -0.928676   \n",
       "1             -2.689605              1.705341              -0.822617   \n",
       "2             -0.549843              3.272225              -0.940610   \n",
       "3             -0.322642              2.366287              -0.866937   \n",
       "4             -0.549843              3.272225              -0.940610   \n",
       "5             -6.202087              2.763802              -0.913074   \n",
       "6             -6.020885              3.316649              -0.944660   \n",
       "7             -0.555530              3.272104              -0.942724   \n",
       "8             -6.149970              3.259964              -0.938109   \n",
       "9             -3.942224              1.031420              -0.802131   \n",
       "\n",
       "   tGravityAccMag-min()  tGravityAccMag-sma()  tGravityAccMag-std()  void()  \n",
       "0             -1.007695              3.094236              1.669987     1.0  \n",
       "1             -0.572410             -2.187890             -0.544652     2.0  \n",
       "2             -1.031522             -2.071755              2.024442     3.0  \n",
       "3             -0.696431              1.863375              0.550414     2.0  \n",
       "4             -1.031522             -2.102513              2.024442     3.0  \n",
       "5             -0.991923              2.783184              0.946387     2.0  \n",
       "6             -1.035018              3.412909              2.096713     1.0  \n",
       "7             -1.030745             -2.238799              2.010097     1.0  \n",
       "8             -1.017701              3.282303              1.968382     1.0  \n",
       "9             -0.704161              0.571339             -2.101442     2.0  \n",
       "\n",
       "[10 rows x 573 columns]"
      ]
     },
     "execution_count": 36,
     "metadata": {},
     "output_type": "execute_result"
    }
   ],
   "source": [
    "data = pd.read_csv(\"final_train.csv\")\n",
    "data.head(10)"
   ]
  },
  {
   "cell_type": "markdown",
   "metadata": {},
   "source": [
    "# Data understanding"
   ]
  },
  {
   "cell_type": "code",
   "execution_count": 60,
   "metadata": {},
   "outputs": [
    {
     "data": {
      "text/plain": [
       "{0, 1, 2, 3, 4, 5}"
      ]
     },
     "execution_count": 60,
     "metadata": {},
     "output_type": "execute_result"
    }
   ],
   "source": [
    "set(data.Activity)"
   ]
  },
  {
   "cell_type": "code",
   "execution_count": 61,
   "metadata": {},
   "outputs": [
    {
     "name": "stdout",
     "output_type": "stream",
     "text": [
      "Liczba cech: 573\n",
      "Liczba obserwacji: 9624\n"
     ]
    }
   ],
   "source": [
    "# Wypisanie liczby cech oraz obserwacji\n",
    "print(\"Liczba cech:\",data.shape[1])\n",
    "print(\"Liczba obserwacji:\",data.shape[0])"
   ]
  },
  {
   "cell_type": "code",
   "execution_count": 62,
   "metadata": {},
   "outputs": [
    {
     "data": {
      "text/plain": [
       "Unnamed: 0               0\n",
       "Activity                 0\n",
       "angle(X,gravityMean)     0\n",
       "angle(Y,gravityMean)     0\n",
       "angle(Z,gravityMean)     0\n",
       "                        ..\n",
       "tGravityAccMag-mean()    0\n",
       "tGravityAccMag-min()     0\n",
       "tGravityAccMag-sma()     0\n",
       "tGravityAccMag-std()     0\n",
       "void()                   0\n",
       "Length: 573, dtype: int64"
      ]
     },
     "execution_count": 62,
     "metadata": {},
     "output_type": "execute_result"
    }
   ],
   "source": [
    "data.isna().sum() "
   ]
  },
  {
   "cell_type": "code",
   "execution_count": 58,
   "metadata": {},
   "outputs": [],
   "source": [
    "# TODO"
   ]
  },
  {
   "cell_type": "markdown",
   "metadata": {},
   "source": [
    "# Some Visualisation"
   ]
  },
  {
   "cell_type": "code",
   "execution_count": 59,
   "metadata": {},
   "outputs": [],
   "source": [
    "# TODO"
   ]
  },
  {
   "cell_type": "markdown",
   "metadata": {},
   "source": [
    "# Data modifications"
   ]
  },
  {
   "cell_type": "code",
   "execution_count": 40,
   "metadata": {},
   "outputs": [],
   "source": [
    "lol = {'LAYING' : 0,\n",
    " 'SITTING' : 1,\n",
    " 'STANDING' : 2,\n",
    " 'WALKING' : 3,\n",
    " 'WALKING_DOWNSTAIRS' : 4,\n",
    " 'WALKING_UPSTAIRS' : 5}"
   ]
  },
  {
   "cell_type": "code",
   "execution_count": 41,
   "metadata": {},
   "outputs": [],
   "source": [
    "data = data.replace({\"Activity\" : lol})"
   ]
  },
  {
   "cell_type": "code",
   "execution_count": 42,
   "metadata": {},
   "outputs": [],
   "source": [
    "data = data.dropna()"
   ]
  },
  {
   "cell_type": "markdown",
   "metadata": {},
   "source": [
    "# Split data"
   ]
  },
  {
   "cell_type": "code",
   "execution_count": 43,
   "metadata": {},
   "outputs": [],
   "source": [
    "from sklearn.model_selection import train_test_split"
   ]
  },
  {
   "cell_type": "code",
   "execution_count": null,
   "metadata": {},
   "outputs": [],
   "source": [
    "X_train, X_test, y_train, y_test = train_test_split(data.drop(columns = \"Activity\"), data.Activity, test_size=0.25, random_state=0)"
   ]
  },
  {
   "cell_type": "markdown",
   "metadata": {},
   "source": [
    "# Build and fit model"
   ]
  },
  {
   "cell_type": "code",
   "execution_count": 63,
   "metadata": {},
   "outputs": [],
   "source": [
    "from sklearn.ensemble import RandomForestClassifier\n",
    "clf = RandomForestClassifier(max_depth=2, random_state=0)"
   ]
  },
  {
   "cell_type": "code",
   "execution_count": 64,
   "metadata": {},
   "outputs": [
    {
     "data": {
      "text/plain": [
       "RandomForestClassifier(max_depth=2, random_state=0)"
      ]
     },
     "execution_count": 64,
     "metadata": {},
     "output_type": "execute_result"
    }
   ],
   "source": [
    "clf.fit(X_train, y_train)"
   ]
  },
  {
   "cell_type": "markdown",
   "metadata": {},
   "source": [
    "# Make predictions"
   ]
  },
  {
   "cell_type": "code",
   "execution_count": 53,
   "metadata": {},
   "outputs": [],
   "source": [
    "preds = clf.predict(X_test)"
   ]
  },
  {
   "cell_type": "code",
   "execution_count": 54,
   "metadata": {},
   "outputs": [
    {
     "data": {
      "text/plain": [
       "array([0, 5, 3, ..., 2, 5, 4], dtype=int64)"
      ]
     },
     "execution_count": 54,
     "metadata": {},
     "output_type": "execute_result"
    }
   ],
   "source": [
    "preds"
   ]
  },
  {
   "cell_type": "markdown",
   "metadata": {},
   "source": [
    "# Get accuracy"
   ]
  },
  {
   "cell_type": "code",
   "execution_count": 56,
   "metadata": {},
   "outputs": [
    {
     "data": {
      "text/plain": [
       "0.7581047381546134"
      ]
     },
     "execution_count": 56,
     "metadata": {},
     "output_type": "execute_result"
    }
   ],
   "source": [
    "np.mean(preds == y_test)"
   ]
  }
 ],
 "metadata": {
  "kernelspec": {
   "display_name": "Python 3",
   "language": "python",
   "name": "python3"
  },
  "language_info": {
   "codemirror_mode": {
    "name": "ipython",
    "version": 3
   },
   "file_extension": ".py",
   "mimetype": "text/x-python",
   "name": "python",
   "nbconvert_exporter": "python",
   "pygments_lexer": "ipython3",
   "version": "3.8.5"
  }
 },
 "nbformat": 4,
 "nbformat_minor": 4
}
