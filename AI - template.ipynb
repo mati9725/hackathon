{
 "cells": [
  {
   "cell_type": "markdown",
   "metadata": {},
   "source": [
    "# BMMW\n",
    "---"
   ]
  },
  {
   "cell_type": "markdown",
   "metadata": {},
   "source": [
    "# Sprawdzanie dokładności modelu\n",
    "Plik test_data.csv jest dostępny tylko dla jury. Zawiera dane testowe - jednakowe dla wszystkich drużyn. Jest w takim samym formacie co zbiór, który otrzymaliście wraz z zadaniem, tylko już z czystymi danymi."
   ]
  },
  {
   "cell_type": "code",
   "execution_count": 6,
   "metadata": {},
   "outputs": [],
   "source": [
    "import pandas as pd\n",
    "import numpy as np"
   ]
  },
  {
   "cell_type": "code",
   "execution_count": 7,
   "metadata": {},
   "outputs": [],
   "source": [
    "test_data = pd.read_csv(\"test_data.csv\")"
   ]
  },
  {
   "cell_type": "markdown",
   "metadata": {},
   "source": [
    "### Miejsce na twój kod:"
   ]
  },
  {
   "cell_type": "code",
   "execution_count": 8,
   "metadata": {},
   "outputs": [],
   "source": [
    "import pickle\n",
    "from utils.create_variables import variables_generator"
   ]
  },
  {
   "cell_type": "code",
   "execution_count": 9,
   "metadata": {},
   "outputs": [],
   "source": [
    "# Load settings file\n",
    "settings = pickle.load(open(\"model.pkl\", \"rb\"))\n",
    "\n",
    "# remove automatically generated column (if exist)\n",
    "if \"Unnamed: 0\" in test_data.columns:\n",
    "    test_data = test_data.drop(columns = [\"Unnamed: 0\"])\n",
    "    \n",
    "data = test_data.drop(columns = [\"Activity\"])\n",
    "\n",
    "#add new features\n",
    "data = variables_generator(data)\n",
    "\n",
    "#remove highly correlated columns\n",
    "data = data.drop(columns = settings[\"high_correlated_features\"], axis = 1)"
   ]
  },
  {
   "cell_type": "code",
   "execution_count": 10,
   "metadata": {},
   "outputs": [
    {
     "name": "stdout",
     "output_type": "stream",
     "text": [
      "Index(['angle(X,gravityMean)', 'angle(Y,gravityMean)', 'angle(Z,gravityMean)',\n",
      "       'angle(tBodyAccJerkMean),gravityMean)', 'angle(tBodyAccMean,gravity)',\n",
      "       'angle(tBodyGyroJerkMean,gravityMean)',\n",
      "       'angle(tBodyGyroMean,gravityMean)', 'energy-mean()',\n",
      "       'fBodyAcc-bandsEnergy()-1,16', 'fBodyAcc-bandsEnergy()-1,16.1',\n",
      "       ...\n",
      "       'tGravityAcc-iqr()-X', 'tGravityAcc-iqr()-Y', 'tGravityAcc-iqr()-Z',\n",
      "       'tGravityAcc-sma()', 'tGravityAccMag-mad()', 'tGravityAccMag-sma()',\n",
      "       'void()', 'new_1', 'new_5', 'new_6'],\n",
      "      dtype='object', length=280)\n"
     ]
    }
   ],
   "source": [
    "# Normalization\n",
    "x = data.values\n",
    "columns = data.columns\n",
    "print(columns)\n",
    "\n",
    "data = settings[\"scaler\"].transform(x)\n",
    "\n",
    "# Features selection\n",
    "data = data[:, settings[\"features\"]]\n",
    "\n",
    "# Encode activities\n",
    "test_data = test_data.replace({\"Activity\" : settings[\"encoder\"]})\n",
    "\n",
    "# Make predictions\n",
    "predicted = settings[\"model\"].predict(data)"
   ]
  },
  {
   "cell_type": "markdown",
   "metadata": {},
   "source": [
    "### Sprawdzanie dokładności:\n",
    "Predicted - zmienna przechowująca przewidzianą aktywność. Poniższa linijka powinna zwrócić wartość 0-1."
   ]
  },
  {
   "cell_type": "code",
   "execution_count": 11,
   "metadata": {},
   "outputs": [
    {
     "data": {
      "text/plain": [
       "0.9935577722360764"
      ]
     },
     "execution_count": 11,
     "metadata": {},
     "output_type": "execute_result"
    }
   ],
   "source": [
    "np.mean(predicted == test_data.Activity)"
   ]
  }
 ],
 "metadata": {
  "kernelspec": {
   "display_name": "Python 3",
   "language": "python",
   "name": "python3"
  },
  "language_info": {
   "codemirror_mode": {
    "name": "ipython",
    "version": 3
   },
   "file_extension": ".py",
   "mimetype": "text/x-python",
   "name": "python",
   "nbconvert_exporter": "python",
   "pygments_lexer": "ipython3",
   "version": "3.8.5"
  }
 },
 "nbformat": 4,
 "nbformat_minor": 4
}
